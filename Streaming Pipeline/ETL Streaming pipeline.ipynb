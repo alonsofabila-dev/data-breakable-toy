{
 "cells": [
  {
   "cell_type": "code",
   "execution_count": 0,
   "metadata": {
    "application/vnd.databricks.v1+cell": {
     "cellMetadata": {
      "byteLimit": 2048000,
      "rowLimit": 10000
     },
     "inputWidgets": {},
     "nuid": "1ff94837-894a-485d-9ea6-fd6c70b2beac",
     "showTitle": false,
     "tableResultSettingsMap": {},
     "title": ""
    }
   },
   "outputs": [],
   "source": [
    "df = spark.read.format('csv').option('header', True).option('inferSchema', True).load('/Volumes/workspace/breakable-toy/streamingdata/social_media_engagement_bronze.csv')\n",
    "\n",
    "df = df.dropDuplicates()\n",
    "\n",
    "df.writeTo('workspace.`breakable-toy`.social_media_streaming_engagement_bronze').createOrReplace()"
   ]
  },
  {
   "cell_type": "code",
   "execution_count": 0,
   "metadata": {
    "application/vnd.databricks.v1+cell": {
     "cellMetadata": {
      "byteLimit": 2048000,
      "rowLimit": 10000
     },
     "inputWidgets": {},
     "nuid": "2c30dff4-4cf0-41cf-8530-fa909be2d59d",
     "showTitle": false,
     "tableResultSettingsMap": {},
     "title": ""
    }
   },
   "outputs": [],
   "source": [
    "df.printSchema()"
   ]
  },
  {
   "cell_type": "code",
   "execution_count": 0,
   "metadata": {
    "application/vnd.databricks.v1+cell": {
     "cellMetadata": {
      "byteLimit": 2048000,
      "rowLimit": 10000
     },
     "inputWidgets": {},
     "nuid": "19385619-6779-478a-8702-30cc8af74b10",
     "showTitle": false,
     "tableResultSettingsMap": {},
     "title": ""
    }
   },
   "outputs": [],
   "source": [
    "from pyspark.sql.types import StringType, TimestampType, DateType, DoubleType\n",
    "from pyspark.sql.functions import first, col, sum, to_date, date_format\n",
    "\n",
    "aggregated_df = df.groupBy(\"post_id\", \"platform\").agg(\n",
    "    first(\"post_timestamp\").alias(\"post_timestamp\"),\n",
    "    sum(\"likes\").alias(\"likes\"),\n",
    "    sum(\"comments\").alias(\"comments\"),\n",
    "    sum(\"shares\").alias(\"shares\")\n",
    ")\n",
    "\n",
    "# Extract post_date and post_time AFTER aggregation\n",
    "aggregated_df = aggregated_df.withColumn(\"post_date\", to_date(col(\"post_timestamp\")))\n",
    "aggregated_df = aggregated_df.withColumn(\"post_time\", date_format(col(\"post_timestamp\"), \"HH:mm:ss\"))\n",
    "\n",
    "# Compute total engagements\n",
    "aggregated_df = aggregated_df.withColumn(\"total_engagements\",\n",
    "    col(\"likes\") + col(\"comments\") + col(\"shares\")\n",
    ")\n",
    "\n",
    "# Compute reach\n",
    "aggregated_df = aggregated_df.withColumn(\"reach\",\n",
    "    col(\"total_engagements\") * 3.25\n",
    ")\n",
    "\n",
    "# Compute engagement rate\n",
    "aggregated_df = aggregated_df.withColumn(\"engagement_rate\",\n",
    "    (col(\"total_engagements\") / col(\"reach\")) * 100                                         \n",
    ")\n",
    "\n",
    "aggregated_df = aggregated_df.select(\n",
    "    col(\"post_id\").cast(StringType()),\n",
    "    col(\"platform\").cast(StringType()),\n",
    "    col(\"post_timestamp\").cast(TimestampType()),\n",
    "    col(\"post_date\").cast(DateType()),\n",
    "    col(\"post_time\").cast(StringType()),\n",
    "    col(\"likes\").cast(DoubleType()),\n",
    "    col(\"comments\").cast(DoubleType()),\n",
    "    col(\"shares\").cast(DoubleType()),\n",
    "    col(\"reach\").cast(DoubleType()),\n",
    "    col(\"total_engagements\").cast(DoubleType()),\n",
    "    col(\"engagement_rate\").cast(DoubleType())\n",
    ")\n",
    "\n",
    "# Write to Gold Table\n",
    "aggregated_df.write.mode(\"append\").saveAsTable(\"workspace.`breakable-toy`.social_media_engagement_gold\")"
   ]
  },
  {
   "cell_type": "code",
   "execution_count": 0,
   "metadata": {
    "application/vnd.databricks.v1+cell": {
     "cellMetadata": {},
     "inputWidgets": {},
     "nuid": "e613121f-2216-4fba-bd49-ac8e2fd514cc",
     "showTitle": false,
     "tableResultSettingsMap": {},
     "title": ""
    }
   },
   "outputs": [],
   "source": []
  }
 ],
 "metadata": {
  "application/vnd.databricks.v1+notebook": {
   "computePreferences": null,
   "dashboards": [],
   "environmentMetadata": {
    "base_environment": "",
    "environment_version": "2"
   },
   "language": "python",
   "notebookMetadata": {
    "pythonIndentUnit": 4
   },
   "notebookName": "ETL Streaming pipeline",
   "widgets": {}
  },
  "language_info": {
   "name": "python"
  }
 },
 "nbformat": 4,
 "nbformat_minor": 0
}
