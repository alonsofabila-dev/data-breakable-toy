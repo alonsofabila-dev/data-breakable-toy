{
 "cells": [
  {
   "cell_type": "code",
   "execution_count": 0,
   "metadata": {
    "application/vnd.databricks.v1+cell": {
     "cellMetadata": {},
     "inputWidgets": {},
     "nuid": "544f7608-8e1e-49cc-847a-ddd062b44efe",
     "showTitle": false,
     "tableResultSettingsMap": {},
     "title": ""
    }
   },
   "outputs": [],
   "source": [
    "%sql\n",
    "CREATE OR REFRESH STREAMING TABLE social_media_bronze\n",
    "AS\n",
    "SELECT * \n",
    "FROM cloud_files('${source}/random_events', 'json', map('cloudFIles.inferColumnTypes', 'true'))"
   ]
  },
  {
   "cell_type": "code",
   "execution_count": 0,
   "metadata": {
    "application/vnd.databricks.v1+cell": {
     "cellMetadata": {},
     "inputWidgets": {},
     "nuid": "db20d65c-34bb-448a-9659-58af0069dbd8",
     "showTitle": false,
     "tableResultSettingsMap": {},
     "title": ""
    }
   },
   "outputs": [],
   "source": [
    "%sql\n",
    "CREATE OR REFRESH STREAMING TABLE social_media_silver\n",
    "AS\n",
    "SELECT\n",
    "    post_id,\n",
    "    platform,\n",
    "    post_timestamp,\n",
    "    SUM(CASE WHEN event_type = 'like' THEN 1 ELSE 0 END) AS likes,\n",
    "    SUM(CASE WHEN event_type = 'comment' THEN 1 ELSE 0 END) AS comments,\n",
    "    SUM(CASE WHEN event_type = 'share' THEN 1 ELSE 0 END) AS shares,\n",
    "    0.25 * (\n",
    "        SUM(CASE WHEN event_type = 'like' THEN 1 ELSE 0 END) +\n",
    "        SUM(CASE WHEN event_type = 'comment' THEN 1 ELSE 0 END) +\n",
    "        SUM(CASE WHEN event_type = 'share' THEN 1 ELSE 0 END)\n",
    "    ) AS reach\n",
    "FROM STREAM(LIVE.social_media_bronze)\n",
    "GROUP BY post_id, platform;"
   ]
  },
  {
   "cell_type": "code",
   "execution_count": 0,
   "metadata": {
    "application/vnd.databricks.v1+cell": {
     "cellMetadata": {},
     "inputWidgets": {},
     "nuid": "69e66148-1e86-466a-9aa3-06779cf373e6",
     "showTitle": false,
     "tableResultSettingsMap": {},
     "title": ""
    }
   },
   "outputs": [],
   "source": [
    "%sql\n",
    "CREATE OR REFRESH LIVE TABLE social_media_gold\n",
    "AS\n",
    "SELECT \n",
    "    post_id, \n",
    "    platform,\n",
    "    post_timestamp, \n",
    "    to_date(date_format(post_timestamp, 'yyyy-MM-dd')) AS post_date, \n",
    "    date_format(post_timestamp, 'HH:mm:ss') AS post_time,\n",
    "    likes, \n",
    "    comments, \n",
    "    shares, \n",
    "    reach,\n",
    "    (COALESCE(likes, 0) + COALESCE(shares, 0) + COALESCE(comments, 0)) AS total_engagements,\n",
    "    CASE \n",
    "        WHEN COALESCE(reach, 0) > 0 THEN \n",
    "            ((COALESCE(likes, 0) + COALESCE(shares, 0) + COALESCE(comments, 0)) / COALESCE(reach, 1)) * 100\n",
    "        ELSE 0\n",
    "    END AS engagement_rate\n",
    "FROM STREAM(LIVE.social_media_silver);\n"
   ]
  }
 ],
 "metadata": {
  "application/vnd.databricks.v1+notebook": {
   "computePreferences": null,
   "dashboards": [],
   "environmentMetadata": {
    "base_environment": "",
    "environment_version": "2"
   },
   "language": "python",
   "notebookMetadata": {
    "pythonIndentUnit": 4
   },
   "notebookName": "Streaming pipeline",
   "widgets": {}
  },
  "language_info": {
   "name": "python"
  }
 },
 "nbformat": 4,
 "nbformat_minor": 0
}
