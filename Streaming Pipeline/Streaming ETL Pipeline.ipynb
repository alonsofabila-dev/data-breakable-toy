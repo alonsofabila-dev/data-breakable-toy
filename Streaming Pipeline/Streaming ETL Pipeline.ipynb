{
 "cells": [
  {
   "cell_type": "code",
   "execution_count": 0,
   "metadata": {
    "application/vnd.databricks.v1+cell": {
     "cellMetadata": {
      "byteLimit": 2048000,
      "rowLimit": 10000
     },
     "inputWidgets": {},
     "nuid": "5abcb1f9-8e23-4838-8462-7daff5bffb40",
     "showTitle": false,
     "tableResultSettingsMap": {},
     "title": ""
    }
   },
   "outputs": [],
   "source": [
    "awsAccessKeyId = \"Your Access Key ID\"\n",
    "awsSecretKey = \"Your Secret Access Key\"\n",
    "kinesisStreamName = \"Your Kinesis Stream Name\"\n",
    "kinesisRegion = \"Your Kinesis Region\" "
   ]
  },
  {
   "cell_type": "code",
   "execution_count": 0,
   "metadata": {
    "application/vnd.databricks.v1+cell": {
     "cellMetadata": {
      "byteLimit": 2048000,
      "rowLimit": 10000
     },
     "inputWidgets": {},
     "nuid": "cd003325-159d-4efe-b688-3eaed50e7bf7",
     "showTitle": false,
     "tableResultSettingsMap": {},
     "title": ""
    }
   },
   "outputs": [],
   "source": [
    "from pyspark.sql.types import StructType, StructField, StringType\n",
    "from pyspark.sql.functions import col, from_json \n",
    "\n",
    "# Define schema for the JSON data\n",
    "schema = StructType([\n",
    "  StructField(\"post_id\", StringType()), \n",
    "  StructField(\"platform\", StringType()),\n",
    "  StructField(\"engagement_type\", StringType()),\n",
    "  StructField(\"user_id\", StringType()),\n",
    "  StructField(\"timestamp\", StringType())\n",
    "])\n",
    "\n",
    "# Read streaming data from Kinesis\n",
    "streaming_raw_df = (\n",
    "  spark\n",
    "    .readStream\n",
    "    .format(\"kinesis\")\n",
    "    .option(\"streamName\", kinesisStreamName)\n",
    "    .option(\"initialPosition\", \"trim_horizon\")\n",
    "    .option(\"awsAccessKey\", awsAccessKeyId)\n",
    "    .option(\"awsSecretKey\", awsSecretKey)\n",
    "    .option(\"region\", kinesisRegion)\n",
    "  .load()\n",
    "  # Parse JSON data and extract fields\n",
    "  .withColumn(\"value\", from_json(col(\"data\").cast(\"string\"), schema))\n",
    "  .withColumn(\"key\", col(\"partitionKey\").cast(\"string\"))\n",
    "  .select(\"value.post_id\", \"value.platform\", \"value.engagement_type\", \"value.user_id\", \"value.timestamp\")\n",
    ")"
   ]
  },
  {
   "cell_type": "code",
   "execution_count": 0,
   "metadata": {
    "application/vnd.databricks.v1+cell": {
     "cellMetadata": {},
     "inputWidgets": {},
     "nuid": "aaeac57c-66d8-43b3-bff3-87c5a4babad1",
     "showTitle": false,
     "tableResultSettingsMap": {},
     "title": ""
    }
   },
   "outputs": [],
   "source": [
    "# Write the streaming DataFrame to a Delta table with specified options\n",
    "window_df = (\n",
    "  streaming_raw_df\n",
    "    .writeStream\n",
    "    .outputMode(\"append\")  # Append new records to the table\n",
    "    .queryName(\"social_media_streaming_engagement\")  \n",
    "    .trigger(availableNow=True)  # Trigger the query to process available data\n",
    "    .option(\"checkpointLocation\", \"/Volumes/workspace/default/checkpoint/kinesis_stream\") \n",
    "  .toTable(\"workspace.default.social_media_engagement_streaming_bronze\")  \n",
    ")"
   ]
  },
  {
   "cell_type": "code",
   "execution_count": 0,
   "metadata": {
    "application/vnd.databricks.v1+cell": {
     "cellMetadata": {},
     "inputWidgets": {},
     "nuid": "f50a1b66-8f21-4b5a-a9f0-d7be7e308bda",
     "showTitle": false,
     "tableResultSettingsMap": {},
     "title": ""
    }
   },
   "outputs": [],
   "source": [
    "social_media_streaming_engagement.status"
   ]
  }
 ],
 "metadata": {
  "application/vnd.databricks.v1+notebook": {
   "computePreferences": null,
   "dashboards": [],
   "environmentMetadata": {
    "base_environment": "",
    "environment_version": "2"
   },
   "language": "python",
   "notebookMetadata": {
    "mostRecentlyExecutedCommandWithImplicitDF": {
     "commandId": 3730625865397617,
     "dataframes": [
      "_sqldf"
     ]
    },
    "pythonIndentUnit": 4
   },
   "notebookName": "Streaming ETL Pipeline",
   "widgets": {}
  },
  "language_info": {
   "name": "python"
  }
 },
 "nbformat": 4,
 "nbformat_minor": 0
}
