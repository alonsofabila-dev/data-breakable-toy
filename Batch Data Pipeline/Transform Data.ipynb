{
 "cells": [
  {
   "cell_type": "markdown",
   "metadata": {
    "application/vnd.databricks.v1+cell": {
     "cellMetadata": {},
     "inputWidgets": {},
     "nuid": "ad8673d0-99bf-45b2-be6c-7c18aed9c138",
     "showTitle": false,
     "tableResultSettingsMap": {},
     "title": ""
    }
   },
   "source": [
    "## Create Delta Silver Table\n",
    "\n",
    "Transition data from a Bronze table to a Silver table in a structured and refined format. \n",
    "\n",
    "* Create the Silver Table\n",
    "* Create a Working Table\n",
    "* Handle Missing Values\n",
    "* Adding Enriched data\n",
    "* Insert Data into the Silver Table\n"
   ]
  },
  {
   "cell_type": "code",
   "execution_count": 0,
   "metadata": {
    "application/vnd.databricks.v1+cell": {
     "cellMetadata": {},
     "inputWidgets": {},
     "nuid": "00ff7de8-759b-4eac-a05c-c43a2b537c3d",
     "showTitle": false,
     "tableResultSettingsMap": {},
     "title": ""
    }
   },
   "outputs": [],
   "source": [
    "%sql\n",
    "-- Create Silver table and define a schema\n",
    "CREATE OR REPLACE TABLE workspace.default.social_media_engagement_silver (\n",
    "  post_id STRING,\n",
    "  platform STRING,\n",
    "  post_timestamp TIMESTAMP,\n",
    "  likes DOUBLE,\n",
    "  comments DOUBLE,\n",
    "  shares DOUBLE,\n",
    "  reach DOUBLE\n",
    ");\n",
    "\n",
    "-- Create a working table before inserting into the Silver table\n",
    "CREATE OR REPLACE TEMP VIEW social_media_silver_working AS\n",
    "  SELECT * FROM workspace.default.social_media_engagement_bronze;\n",
    "\n",
    "SELECT * FROM social_media_silver_working;"
   ]
  },
  {
   "cell_type": "code",
   "execution_count": 0,
   "metadata": {
    "application/vnd.databricks.v1+cell": {
     "cellMetadata": {},
     "inputWidgets": {},
     "nuid": "62b61176-df28-4545-957b-717cc7f9a72e",
     "showTitle": false,
     "tableResultSettingsMap": {},
     "title": ""
    }
   },
   "outputs": [],
   "source": [
    "%sql\n",
    "-- Since the distribution in likes, shares, comments and reach\n",
    "-- are normal Impute with the mean \n",
    "WITH mean_values AS (\n",
    "  SELECT \n",
    "    AVG(likes) AS likes_mean,\n",
    "    AVG(comments) AS comments_mean,\n",
    "    AVG(shares) AS shares_mean,\n",
    "    AVG(reach) AS reach_mean\n",
    "  FROM social_media_silver_working\n",
    ")\n",
    "\n",
    "-- Update the table to replace null values with the calculated mean values\n",
    "UPDATE social_media_silver_working\n",
    "SET \n",
    "  likes = COALESCE(likes, (SELECT likes_mean FROM mean_values)),\n",
    "  comments = COALESCE(comments, (SELECT comments_mean FROM mean_values)),\n",
    "  shares = COALESCE(shares, (SELECT shares_mean FROM mean_values)),\n",
    "  reach = COALESCE(reach, (SELECT reach_mean FROM mean_values));"
   ]
  },
  {
   "cell_type": "code",
   "execution_count": 0,
   "metadata": {
    "application/vnd.databricks.v1+cell": {
     "cellMetadata": {},
     "inputWidgets": {},
     "nuid": "d0eeffd6-9056-496c-b9f4-70166713eb57",
     "showTitle": false,
     "tableResultSettingsMap": {},
     "title": ""
    }
   },
   "outputs": [],
   "source": [
    "%sql\n",
    "-- Insert data from the source temp view (social_media_silver_working)\n",
    "-- into the target table (social_media_engagement_silver)\n",
    "INSERT INTO workspace.default.social_media_engagement_silver \n",
    "SELECT \n",
    "  post_id, \n",
    "  platform,\n",
    "  post_timestamp, \n",
    "  likes, \n",
    "  shares, \n",
    "  comments, \n",
    "  reach\n",
    "FROM social_media_silver_working"
   ]
  }
 ],
 "metadata": {
  "application/vnd.databricks.v1+notebook": {
   "computePreferences": null,
   "dashboards": [],
   "environmentMetadata": {
    "base_environment": "",
    "environment_version": "2"
   },
   "language": "python",
   "notebookMetadata": {
    "pythonIndentUnit": 4
   },
   "notebookName": "Transform Data",
   "widgets": {}
  },
  "language_info": {
   "name": "python"
  }
 },
 "nbformat": 4,
 "nbformat_minor": 0
}
