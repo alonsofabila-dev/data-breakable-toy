{
 "cells": [
  {
   "cell_type": "markdown",
   "metadata": {
    "application/vnd.databricks.v1+cell": {
     "cellMetadata": {},
     "inputWidgets": {},
     "nuid": "2564f45f-b5e9-4ba9-b2f2-0ad2f4f4ecee",
     "showTitle": false,
     "tableResultSettingsMap": {},
     "title": ""
    }
   },
   "source": [
    "## Load to Gold Table\n",
    "\n",
    "* Data **enrichment**"
   ]
  },
  {
   "cell_type": "code",
   "execution_count": 0,
   "metadata": {
    "application/vnd.databricks.v1+cell": {
     "cellMetadata": {},
     "inputWidgets": {},
     "nuid": "47132715-12a4-4704-b1ed-8c0cc6bb58e9",
     "showTitle": false,
     "tableResultSettingsMap": {},
     "title": ""
    }
   },
   "outputs": [],
   "source": [
    "%sql\n",
    "-- Create Gold table and define a schema\n",
    "CREATE OR REPLACE TABLE workspace.`breakable-toy`.social_media_engagement_gold (\n",
    "  post_id STRING,\n",
    "  platform STRING,\n",
    "  post_timestamp TIMESTAMP,\n",
    "  post_date DATE,\n",
    "  post_time STRING,\n",
    "  likes DOUBLE,\n",
    "  comments DOUBLE,\n",
    "  shares DOUBLE,\n",
    "  reach DOUBLE,\n",
    "  total_engagements DOUBLE,\n",
    "  engagement_rate DOUBLE\n",
    ");"
   ]
  },
  {
   "cell_type": "code",
   "execution_count": 0,
   "metadata": {
    "application/vnd.databricks.v1+cell": {
     "cellMetadata": {},
     "inputWidgets": {},
     "nuid": "4c36b6cf-8ea1-44b0-8aa7-8dba79f6cfdc",
     "showTitle": false,
     "tableResultSettingsMap": {},
     "title": ""
    }
   },
   "outputs": [],
   "source": [
    "%sql\n",
    "-- Insert data from the source table (social_media_engagement_silver)\n",
    "-- into the target table (social_media_engagement_gold)\n",
    "-- with additional aggregates\n",
    "MERGE INTO workspace.`breakable-toy`.social_media_engagement_gold\n",
    "SELECT \n",
    "  post_id, \n",
    "  platform,\n",
    "  post_timestamp, \n",
    "  to_date(date_format(post_timestamp, 'yyyy-MM-dd')) AS post_date, \n",
    "  date_format(post_timestamp, 'HH:mm:ss') AS post_time,\n",
    "  likes, \n",
    "  shares, \n",
    "  comments, \n",
    "  reach,\n",
    "  (COALESCE(likes, 0) + COALESCE(shares, 0) + COALESCE(comments, 0)) AS total_engagements,\n",
    "  CASE \n",
    "        WHEN COALESCE(reach, 0) > 0 THEN \n",
    "            ((COALESCE(likes, 0) + COALESCE(shares, 0) + COALESCE(comments, 0)) / COALESCE(reach, 1)) * 100\n",
    "        ELSE 0\n",
    "    END AS engagement_rate\n",
    "FROM workspace.`breakable-toy`.social_media_engagement_silver"
   ]
  }
 ],
 "metadata": {
  "application/vnd.databricks.v1+notebook": {
   "computePreferences": null,
   "dashboards": [],
   "environmentMetadata": {
    "base_environment": "",
    "environment_version": "2"
   },
   "language": "python",
   "notebookMetadata": {
    "pythonIndentUnit": 4
   },
   "notebookName": "Load to Gold Table",
   "widgets": {}
  },
  "language_info": {
   "name": "python"
  }
 },
 "nbformat": 4,
 "nbformat_minor": 0
}
