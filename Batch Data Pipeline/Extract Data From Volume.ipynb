{
 "cells": [
  {
   "cell_type": "markdown",
   "metadata": {
    "application/vnd.databricks.v1+cell": {
     "cellMetadata": {},
     "inputWidgets": {},
     "nuid": "86db7267-a702-4f9b-8aea-514bc765231b",
     "showTitle": false,
     "tableResultSettingsMap": {},
     "title": ""
    }
   },
   "source": [
    "## Create and Upload data to Delta Bronze Table\n",
    "\n",
    "Reading **raw social media engagement data** from a CSV file, apply a **infered schema**, and write into a **Delta Lake Bronze Table** for further processing."
   ]
  },
  {
   "cell_type": "code",
   "execution_count": 0,
   "metadata": {
    "application/vnd.databricks.v1+cell": {
     "cellMetadata": {},
     "inputWidgets": {},
     "nuid": "7681d4d2-7a0e-468f-89de-9df2a1f04b17",
     "showTitle": false,
     "tableResultSettingsMap": {},
     "title": ""
    }
   },
   "outputs": [],
   "source": [
    "df = spark.read.format('csv').option('header', True).option('inferSchema', True).load('/Volumes/workspace/breakable-toy/rawdata/social_media_engagement.csv')\n",
    "\n",
    "df = df.dropDuplicates()\n",
    "\n",
    "df.writeTo('workspace.`breakable-toy`.social_media_engagement_bronze').createOrReplace()"
   ]
  }
 ],
 "metadata": {
  "application/vnd.databricks.v1+notebook": {
   "computePreferences": null,
   "dashboards": [],
   "environmentMetadata": {
    "base_environment": "",
    "environment_version": "2"
   },
   "language": "python",
   "notebookMetadata": {
    "pythonIndentUnit": 4
   },
   "notebookName": "Extract Data From Volume",
   "widgets": {}
  },
  "language_info": {
   "name": "python"
  }
 },
 "nbformat": 4,
 "nbformat_minor": 0
}
